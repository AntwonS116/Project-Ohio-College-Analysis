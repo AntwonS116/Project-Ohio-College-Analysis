{
 "cells": [
  {
   "cell_type": "code",
   "execution_count": null,
   "source": [
    "#Cleaning data although degree data is relatively clean with pandas \r\n",
    "import pandas as pd \r\n",
    "import matplotlib.pyplot as plt \r\n",
    "import sklearn.datasets as dta\r\n",
    "import scipy.stats as st\r\n",
    "import numpy as np\r\n",
    "from scipy.stats import linregress\r\n",
    "\r\n"
   ],
   "outputs": [],
   "metadata": {}
  },
  {
   "cell_type": "code",
   "execution_count": null,
   "source": [
    "#pulling initial employment info \r\n",
    "employment_file = (\"Resources\\Employment Info 2002-2018.xlsx\")\r\n",
    "\r\n",
    "unemploy_info = pd.read_excel(employment_file)\r\n",
    "unemploy_info.head()"
   ],
   "outputs": [],
   "metadata": {}
  },
  {
   "cell_type": "code",
   "execution_count": null,
   "source": [
    "#renaming employment info columns \r\n",
    "\r\n",
    "unemploy_info = unemploy_info.rename(columns={\r\n",
    "\"Unemployment_rate_2002\": \"2002 Unemployment Percent\",\r\n",
    "\"Unemployment_rate_2003\": \"2003 Unemployment Percent\",\r\n",
    "\"Unemployment_rate_2004\": \"2004 Unemployment Percent\",\r\n",
    "\"Unemployment_rate_2005\": \"2005 Unemployment Percent\",\r\n",
    "\"Unemployment_rate_2006\": \"2006 Unemployment Percent\",\r\n",
    "\"Unemployment_rate_2007\": \"2007 Unemployment Percent\",\r\n",
    "\"Unemployment_rate_2008\": \"2008 Unemployment Percent\",\r\n",
    "\"Unemployment_rate_2009\": \"2009 Unemployment Percent\",\r\n",
    "\"Unemployment_rate_2010\": \"2010 Unemployment Percent\",\r\n",
    "\"Unemployment_rate_2011\": \"2011 Unemployment Percent\",\r\n",
    "\"Unemployment_rate_2012\": \"2012 Unemployment Percent\",\r\n",
    "\"Unemployment_rate_2013\": \"2013 Unemployment Percent\",\r\n",
    "\"Unemployment_rate_2014\": \"2014 Unemployment Percent\",\r\n",
    "\"Unemployment_rate_2015\": \"2015 Unemployment Percent\",\r\n",
    "\"Unemployment_rate_2016\": \"2016 Unemployment Percent\",\r\n",
    "\"Unemployment_rate_2017\": \"2017 Unemployment Percent\",\r\n",
    "\"Unemployment_rate_2018\": \"2018 Unemployment Percent\"\r\n",
    "})\r\n",
    "\r\n",
    "unemploy_info.head()"
   ],
   "outputs": [],
   "metadata": {}
  },
  {
   "cell_type": "code",
   "execution_count": null,
   "source": [
    "#saving final unemployment info dataframe \r\n",
    "\r\n",
    "# unemploy_info.to_excel(\"Resources/FinalUnemploymentInfo.xlsx\", index=False)"
   ],
   "outputs": [],
   "metadata": {}
  },
  {
   "cell_type": "code",
   "execution_count": null,
   "source": [
    "#file path for initial data frame \r\n",
    "\r\n",
    "file = \"Resources/2002 - 2019 Ohio Poverty - Median Income by County - SAIPESNC_11SEP21_12_11_11_34.csv\"\r\n",
    "inc_pov_df = pd.read_csv(file)\r\n",
    "inc_pov_df.head()"
   ],
   "outputs": [],
   "metadata": {}
  },
  {
   "cell_type": "code",
   "execution_count": null,
   "source": [
    "# renaming columns \r\n",
    "\r\n",
    "inc_pov_df = inc_pov_df.rename(columns={\"Year\": \"Year\", \"State / County Name\": \"State and County\", \"All Ages in Poverty Percent\": \"Poverty Percentage\", \"Median Household Income in Dollars\": \"Median Household Income\"})\r\n",
    "# inc_pov_df.head()"
   ],
   "outputs": [],
   "metadata": {}
  },
  {
   "cell_type": "code",
   "execution_count": null,
   "source": [
    "#Grabbing needed poverty rate columns \r\n",
    "\r\n",
    "new_inc = inc_pov_df[[\"Year\", \"State\", \"County ID\", \"State and County\", \"Poverty Percentage\", \"Median Household Income\"]]\r\n",
    "new_inc.head()\r\n"
   ],
   "outputs": [],
   "metadata": {}
  },
  {
   "cell_type": "code",
   "execution_count": null,
   "source": [
    "#Removing state and county ID as they are not needed\r\n",
    "\r\n",
    "drop_new_inc = new_inc.drop(columns=[\"State\", \"County ID\"])\r\n",
    "\r\n",
    "\r\n",
    "drop_new_inc\r\n"
   ],
   "outputs": [],
   "metadata": {}
  },
  {
   "cell_type": "code",
   "execution_count": null,
   "source": [
    "#saving final employment rate / median income file \r\n",
    "\r\n",
    "# drop_new_inc.to_csv(\"Resources/FinalEmployment&Income.csv\", index=False)"
   ],
   "outputs": [],
   "metadata": {}
  },
  {
   "cell_type": "code",
   "execution_count": null,
   "source": [
    "#file path for initial  degrees data frame \r\n",
    "\r\n",
    "file = \"Resources/Degrees By Subject Clean.xlsx\"\r\n",
    "\r\n",
    "df = pd.read_excel(file)\r\n",
    "df"
   ],
   "outputs": [],
   "metadata": {}
  },
  {
   "cell_type": "code",
   "execution_count": null,
   "source": [
    "#dropping subject field as it is not needed for analysis \r\n",
    "\r\n",
    "df = df.drop (columns=[\"Subject Field\"])\r\n",
    "df"
   ],
   "outputs": [],
   "metadata": {}
  },
  {
   "cell_type": "code",
   "execution_count": null,
   "source": [
    "#drop rows if entire row is zero \r\n",
    "\r\n",
    "df = df.dropna(how=\"all\")\r\n",
    "df.head()"
   ],
   "outputs": [],
   "metadata": {}
  },
  {
   "cell_type": "code",
   "execution_count": null,
   "source": [
    "#getting degree options to clean \r\n",
    "\r\n",
    "df[\"Level of Degree or Certificate\"].value_counts()"
   ],
   "outputs": [],
   "metadata": {}
  },
  {
   "cell_type": "code",
   "execution_count": null,
   "source": [
    "#deleting rows that do not contain Bachelors or Masters\r\n",
    "# df.columns"
   ],
   "outputs": [],
   "metadata": {}
  },
  {
   "cell_type": "code",
   "execution_count": null,
   "source": [
    "df.drop(df[df[\"Level of Degree or Certificate\"] == \"Associate Degree\"].index, inplace=True)\r\n",
    "df.drop(df[df[\"Level of Degree or Certificate\"] == \"One to less than Two-Year Award\"].index, inplace=True)\r\n",
    "df.drop(df[df[\"Level of Degree or Certificate\"] == \"Less than One-Year Award\"].index, inplace=True)\r\n",
    "df.drop(df[df[\"Level of Degree or Certificate\"] == \"Doctoral Degree - Research|Scholarship\"].index, inplace=True)\r\n",
    "df.drop(df[df[\"Level of Degree or Certificate\"] == \"Post-Baccalaureate Certificate\"].index, inplace=True)\r\n",
    "df.drop(df[df[\"Level of Degree or Certificate\"] == \"Technical Certificate\"].index, inplace=True)\r\n",
    "df.drop(df[df[\"Level of Degree or Certificate\"] == \"Technical Short Term Certificate\"].index, inplace=True)\r\n",
    "df.drop(df[df[\"Level of Degree or Certificate\"] == \"General Certificate\"].index, inplace=True)\r\n",
    "df.drop(df[df[\"Level of Degree or Certificate\"] == \"General Short Term Certificate\"].index, inplace=True)\r\n",
    "df.drop(df[df[\"Level of Degree or Certificate\"] == \"Post-Master's Certificate\"].index, inplace=True)\r\n",
    "df.drop(df[df[\"Level of Degree or Certificate\"] == \"Doctoral Degree - Professional Practice\"].index, inplace=True)\r\n",
    "df.drop(df[df[\"Level of Degree or Certificate\"] == \"Two to less than Four-Year Award\"].index, inplace=True)\r\n",
    "df.drop(df[df[\"Level of Degree or Certificate\"] == \"Doctoral Degree - Other\"].index, inplace=True)\r\n",
    "df.drop(df[df[\"Level of Degree or Certificate\"] == \"First-professional certificate (post-degree)\"].index, inplace=True)\r\n",
    "\r\n",
    "df.head()"
   ],
   "outputs": [],
   "metadata": {}
  },
  {
   "cell_type": "code",
   "execution_count": null,
   "source": [
    "#making sure I have degrees desired for analysis \r\n",
    "df[\"Level of Degree or Certificate\"].value_counts()"
   ],
   "outputs": [],
   "metadata": {}
  },
  {
   "cell_type": "code",
   "execution_count": null,
   "source": [
    "#Checking if there are errors in Discipline Area \r\n",
    "\r\n",
    "df[\"Discipline Area\"].value_counts()"
   ],
   "outputs": [],
   "metadata": {}
  },
  {
   "cell_type": "markdown",
   "source": [
    "Nothing to clean in discipline area "
   ],
   "metadata": {}
  },
  {
   "cell_type": "code",
   "execution_count": null,
   "source": [
    "#checking for variances in Institution name \r\n",
    "\r\n",
    "df[\"Institution\"].value_counts()"
   ],
   "outputs": [],
   "metadata": {}
  },
  {
   "cell_type": "code",
   "execution_count": null,
   "source": [
    "#replacing St Joseph institution name\r\n",
    "\r\n",
    "df[\"Institution\"].replace({\"COLLEGE OF MOUNT ST. JOSEPH\" : \"COLLEGE OF MOUNT ST JOSEPH\"})\r\n",
    "df"
   ],
   "outputs": [],
   "metadata": {}
  },
  {
   "cell_type": "code",
   "execution_count": null,
   "source": [
    "#adding a \"Total degrees\" column that will sum the total degrees given from 2002 - 2018 \r\n",
    "\r\n",
    "df[\"Total Degrees\"] = df.sum(axis= 1)\r\n",
    "df"
   ],
   "outputs": [],
   "metadata": {}
  },
  {
   "cell_type": "code",
   "execution_count": null,
   "source": [
    "tot_deg = df.drop(columns=['Sector', 'Institution', 'Discipline Area', 'Level of Degree or Certificate', 'Total Degrees'])\r\n",
    "tot_deg"
   ],
   "outputs": [],
   "metadata": {}
  },
  {
   "cell_type": "code",
   "execution_count": null,
   "source": [
    "degs_yr = pd.DataFrame(tot_deg.iloc[:, 0:17])\r\n",
    "degs_yr = degs_yr.T\r\n",
    "degs_yr.head(20)"
   ],
   "outputs": [],
   "metadata": {}
  },
  {
   "cell_type": "code",
   "execution_count": null,
   "source": [
    "#saving final cleaned degree data \r\n",
    "\r\n",
    "# df.to_excel (\"Resources/FinalDegreeData.xlsx\" , index=False)\r\n"
   ],
   "outputs": [],
   "metadata": {}
  },
  {
   "cell_type": "code",
   "execution_count": null,
   "source": [
    "#pulling in final cleaned files \r\n",
    "\r\n",
    "file1 = (\"Resources\\FinalDegreeData.xlsx\")\r\n",
    "\r\n",
    "df1 = pd.read_excel(file1)\r\n",
    "print(df1.nunique())\r\n",
    "\r\n",
    "\r\n"
   ],
   "outputs": [],
   "metadata": {}
  },
  {
   "cell_type": "code",
   "execution_count": null,
   "source": [
    "file2 = (\"Resources\\FinalEmployment&Income.csv\")\r\n",
    "\r\n",
    "df2 = pd.read_csv(file2)\r\n",
    "df2.head()"
   ],
   "outputs": [],
   "metadata": {}
  },
  {
   "cell_type": "code",
   "execution_count": null,
   "source": [
    "file3 = (\"Resources\\FinalUnemploymentInfo.xlsx\")\r\n",
    "\r\n",
    "df3 = pd.read_excel(file3)\r\n",
    "df3[\"Unemployment Average\"] = df3.mean(axis=1)\r\n",
    "df3.head()\r\n"
   ],
   "outputs": [],
   "metadata": {}
  },
  {
   "cell_type": "code",
   "execution_count": null,
   "source": [
    "# create a dataframe which gives the total of each column\r\n",
    "df\r\n",
    "df = df.reset_index(drop=True)\r\n",
    "df.loc['Total']= df.sum()\r\n",
    "df"
   ],
   "outputs": [],
   "metadata": {}
  },
  {
   "cell_type": "code",
   "execution_count": null,
   "source": [
    "# unemployment percentage and degrees earned\r\n",
    "oh_only = df3[df3[\"County\"] == \"Ohio\"]\r\n",
    "oh_only = oh_only.drop(columns=['State', 'County', 'Unemployment Average'])\r\n",
    "oh_only = oh_only.rename(columns={'2002 Unemployment Percent':'2002', '2003 Unemployment Percent':'2003','2004 Unemployment Percent':'2004',\r\n",
    "'2005 Unemployment Percent':'2005', '2006 Unemployment Percent':'2006','2007 Unemployment Percent':'2007',\r\n",
    "'2008 Unemployment Percent':'2008', '2009 Unemployment Percent':'2009','2010 Unemployment Percent':'2010',\r\n",
    "'2011 Unemployment Percent':'2011', '2012 Unemployment Percent':'2012','2013 Unemployment Percent':'2013',\r\n",
    "'2014 Unemployment Percent':'2014', '2015 Unemployment Percent':'2015','2016 Unemployment Percent':'2016',\r\n",
    "'2017 Unemployment Percent':'2017', '2018 Unemployment Percent':'2018'})\r\n",
    "oh_only\r\n",
    "oh_only = oh_only.T\r\n",
    "oh_only\r\n",
    "\r\n",
    "\r\n",
    "\r\n",
    "\r\n",
    "\r\n"
   ],
   "outputs": [],
   "metadata": {}
  },
  {
   "cell_type": "code",
   "execution_count": null,
   "source": [
    "\r\n",
    "# Add the linear regression equation and line to plot\r\n",
    "x_values = oh_only.iloc[:, 0]\r\n",
    "y_values = degs_yr.iloc[:,0]\r\n",
    "(slope, intercept, rvalue, pvalue, stderr) = linregress(x_values, y_values)\r\n",
    "regress_values = x_values * slope + intercept\r\n",
    "line_eq = \"y = \" + str(round(slope,2)) + \"x + \" + str(round(intercept,2))\r\n",
    "plt.scatter(x_values,y_values)\r\n",
    "plt.plot(x_values,regress_values,\"r-\")\r\n",
    "plt.annotate(line_eq,(6,120000),fontsize=15,color=\"red\")\r\n",
    "plt.title(\"Total Degrees Earned vs. Total Unemployment Rate (OH All State)\")\r\n",
    "plt.xlabel(\"Unemployment Rate (%)\")\r\n",
    "plt.ylabel(\"Bachelors and Master Degrees\")\r\n",
    "print(f\"The correlation coefficient between total degress and total unemployement is {round(st.pearsonr(x_values,y_values)[0],2)}\")\r\n",
    "plt.show()\r\n",
    "\r\n"
   ],
   "outputs": [],
   "metadata": {}
  }
 ],
 "metadata": {
  "orig_nbformat": 4,
  "language_info": {
   "name": "python",
   "version": "3.9.6",
   "mimetype": "text/x-python",
   "codemirror_mode": {
    "name": "ipython",
    "version": 3
   },
   "pygments_lexer": "ipython3",
   "nbconvert_exporter": "python",
   "file_extension": ".py"
  },
  "kernelspec": {
   "name": "python3",
   "display_name": "Python 3.9.6 64-bit"
  },
  "interpreter": {
   "hash": "c36b75ead49fede5ca4c7f5a618ce1e3bfb4b3a0f4512cc32c001d2e83619906"
  }
 },
 "nbformat": 4,
 "nbformat_minor": 2
}